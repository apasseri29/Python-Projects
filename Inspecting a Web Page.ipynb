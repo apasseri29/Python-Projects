{
 "cells": [
  {
   "cell_type": "code",
   "execution_count": null,
   "id": "bb0b36f3-2838-46df-ae33-b4c996dcc59c",
   "metadata": {},
   "outputs": [],
   "source": [
    "HTML and Inspecting a Web Page\n",
    "\n",
    "image.png\n",
    "\n",
    "https://www.scrapethissite.com/pages/forms/ "
   ]
  },
  {
   "cell_type": "code",
   "execution_count": null,
   "id": "707c29cd-6a0a-4e23-b4d1-57b3aacd9eb7",
   "metadata": {},
   "outputs": [],
   "source": []
  },
  {
   "cell_type": "code",
   "execution_count": null,
   "id": "e1f6f322-c5a6-4e56-9920-e73edf7437a9",
   "metadata": {},
   "outputs": [],
   "source": []
  },
  {
   "cell_type": "code",
   "execution_count": null,
   "id": "e972eb0f-7da2-4adb-9fe5-2c1edf7acff8",
   "metadata": {},
   "outputs": [],
   "source": []
  },
  {
   "cell_type": "code",
   "execution_count": null,
   "id": "4026e88f-acab-44e3-adf2-5ce0c03233a9",
   "metadata": {},
   "outputs": [],
   "source": []
  },
  {
   "cell_type": "code",
   "execution_count": null,
   "id": "bca7fe79-9972-4ebf-8b0f-8bc5b3635b68",
   "metadata": {},
   "outputs": [],
   "source": []
  }
 ],
 "metadata": {
  "kernelspec": {
   "display_name": "Python 3 (ipykernel)",
   "language": "python",
   "name": "python3"
  },
  "language_info": {
   "codemirror_mode": {
    "name": "ipython",
    "version": 3
   },
   "file_extension": ".py",
   "mimetype": "text/x-python",
   "name": "python",
   "nbconvert_exporter": "python",
   "pygments_lexer": "ipython3",
   "version": "3.12.2"
  },
  "widgets": {
   "application/vnd.jupyter.widget-state+json": {
    "state": {},
    "version_major": 2,
    "version_minor": 0
   }
  }
 },
 "nbformat": 4,
 "nbformat_minor": 5
}
