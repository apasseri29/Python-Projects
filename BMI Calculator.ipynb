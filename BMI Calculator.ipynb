{
 "cells": [
  {
   "cell_type": "code",
   "execution_count": 34,
   "id": "d5980eb0-249e-449c-b317-4670be78db6c",
   "metadata": {},
   "outputs": [
    {
     "name": "stdin",
     "output_type": "stream",
     "text": [
      "Enter your name:  Anabella\n",
      "Enter your weight in pounds:  100\n",
      "Enter your height in inches:  62\n"
     ]
    },
    {
     "name": "stdout",
     "output_type": "stream",
     "text": [
      "18.28824141519251 BMI\n",
      "Anabella, you are underweight. Please eat more.\n"
     ]
    }
   ],
   "source": [
    "name = input(\"Enter your name: \")\n",
    "\n",
    "weight = int(input(\"Enter your weight in pounds: \"))\n",
    "\n",
    "height = int(input(\"Enter your height in inches: \"))\n",
    "\n",
    "BMI = (weight * 703) / (height * height)\n",
    "\n",
    "print(BMI, \"BMI\")\n",
    "\n",
    "if BMI>0:\n",
    "    if(BMI<18.5):\n",
    "        print(name + \", you are underweight. Please eat more.\")\n",
    "    elif(BMI<=24.9):\n",
    "        print(name + \", you are normal weight.\")\n",
    "    elif(BMI<29.9):\n",
    "        print(name + \", you are overweight. You need to exercise more and stop sitting and writing on Facebook\")\n",
    "    elif(BMI<34.9):\n",
    "        print(name + \", you are obese.\")\n",
    "    elif(BMI<39.9):\n",
    "        print(name + \", you are severely obese.\")\n",
    "    else:\n",
    "        print(\"You are morbidly obese.\")\n",
    "else:\n",
    "    print(\"Enter valid input\")\n"
   ]
  },
  {
   "cell_type": "code",
   "execution_count": null,
   "id": "3e88b964-e7db-4a4f-accb-affe21c893ee",
   "metadata": {},
   "outputs": [],
   "source": []
  },
  {
   "cell_type": "code",
   "execution_count": null,
   "id": "430772e2-edd7-4372-b13d-025770287a72",
   "metadata": {},
   "outputs": [],
   "source": []
  },
  {
   "cell_type": "code",
   "execution_count": null,
   "id": "6688d382-2c16-4ce0-80ca-1c948608c010",
   "metadata": {},
   "outputs": [],
   "source": []
  },
  {
   "cell_type": "code",
   "execution_count": null,
   "id": "a2dcd2d5-b2a6-4021-b9f5-d7092885efae",
   "metadata": {},
   "outputs": [],
   "source": []
  },
  {
   "cell_type": "code",
   "execution_count": 8,
   "id": "e14a7234-d2c4-4c84-8738-3d1855c4470a",
   "metadata": {},
   "outputs": [
    {
     "data": {
      "text/plain": [
       "str"
      ]
     },
     "execution_count": 8,
     "metadata": {},
     "output_type": "execute_result"
    }
   ],
   "source": [
    "type(height)"
   ]
  },
  {
   "cell_type": "code",
   "execution_count": null,
   "id": "b6c1cf52-9ba2-4730-89df-0c64dc1ca23f",
   "metadata": {},
   "outputs": [],
   "source": []
  },
  {
   "cell_type": "code",
   "execution_count": null,
   "id": "35aa7249-4776-4700-b360-fb59be5908c0",
   "metadata": {},
   "outputs": [],
   "source": [
    "# BMI = (weight in pounds x 703) / (height in inches x height in inches)"
   ]
  },
  {
   "cell_type": "code",
   "execution_count": null,
   "id": "ec293b59-68f5-447c-b88b-25dcaee8e3f8",
   "metadata": {},
   "outputs": [],
   "source": [
    "print(weight)"
   ]
  },
  {
   "cell_type": "code",
   "execution_count": null,
   "id": "d13121b8-31a7-467f-851e-df743e57e3eb",
   "metadata": {},
   "outputs": [],
   "source": [
    "Under 18.5\tUnderweight\tto Minimal\n",
    "18.5 - 24.9\tNormal Weight to\tMinimal\n",
    "25 - 29.9\tOverweight to\tIncreased\n",
    "30 - 34.9\tObese to\tHigh\n",
    "35 - 39.9\tSeverely Obese\tto Very High\n",
    "40 and over\tMorbidly Obese to\tExtremely High"
   ]
  },
  {
   "cell_type": "code",
   "execution_count": 16,
   "id": "051cef9d-3b70-46b4-94d3-40c34299cb61",
   "metadata": {},
   "outputs": [
    {
     "name": "stdout",
     "output_type": "stream",
     "text": [
      "Anabella, you are underweight.\n"
     ]
    }
   ],
   "source": [
    "if BMI>0:\n",
    "    if(BMI<18.5):\n",
    "        print(name + \", you are underweight.\")\n",
    "    elif(BMI<=24.9):\n",
    "        print(name + \", you are normal weight.\")\n",
    "    elif(BMI<29.9):\n",
    "        print(name + \", you are overweight.\")\n",
    "    elif(BMI<34.9):\n",
    "        print(name + \", you are obese.\")\n",
    "    elif(BMI<39.9):\n",
    "        print(name + \", you are severely obese.\")\n",
    "    else:\n",
    "        print(\"You are morbidly obese.\")\n",
    "else:\n",
    "    print(\"Enter valid input\")"
   ]
  },
  {
   "cell_type": "code",
   "execution_count": null,
   "id": "94b20ee9-778a-4141-9d4c-d85233e6b99c",
   "metadata": {},
   "outputs": [],
   "source": []
  },
  {
   "cell_type": "code",
   "execution_count": null,
   "id": "4197d474-9ef7-49d7-9ba2-dcd675dc7ac8",
   "metadata": {},
   "outputs": [],
   "source": []
  }
 ],
 "metadata": {
  "kernelspec": {
   "display_name": "Python 3 (ipykernel)",
   "language": "python",
   "name": "python3"
  },
  "language_info": {
   "codemirror_mode": {
    "name": "ipython",
    "version": 3
   },
   "file_extension": ".py",
   "mimetype": "text/x-python",
   "name": "python",
   "nbconvert_exporter": "python",
   "pygments_lexer": "ipython3",
   "version": "3.12.2"
  },
  "widgets": {
   "application/vnd.jupyter.widget-state+json": {
    "state": {},
    "version_major": 2,
    "version_minor": 0
   }
  }
 },
 "nbformat": 4,
 "nbformat_minor": 5
}
